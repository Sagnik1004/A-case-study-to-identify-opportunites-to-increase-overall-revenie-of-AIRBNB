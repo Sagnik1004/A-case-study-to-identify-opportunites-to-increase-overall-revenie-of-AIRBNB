{
 "cells": [
  {
   "cell_type": "code",
   "execution_count": 2,
   "id": "26465286",
   "metadata": {},
   "outputs": [],
   "source": [
    "#imporint warnings\n",
    "import warnings\n",
    "warnings.filterwarnings('ignore')"
   ]
  },
  {
   "cell_type": "code",
   "execution_count": 3,
   "id": "0a75697e",
   "metadata": {},
   "outputs": [],
   "source": [
    "#importing important libraries\n",
    "import pandas as pd\n",
    "import numpy as np\n",
    "import matplotlib.pyplot as plt\n",
    "import seaborn as sns"
   ]
  },
  {
   "cell_type": "markdown",
   "id": "652bfb14",
   "metadata": {},
   "source": [
    "## Data understanding"
   ]
  },
  {
   "cell_type": "code",
   "execution_count": 4,
   "id": "dea7c206",
   "metadata": {},
   "outputs": [
    {
     "data": {
      "text/html": [
       "<div>\n",
       "<style scoped>\n",
       "    .dataframe tbody tr th:only-of-type {\n",
       "        vertical-align: middle;\n",
       "    }\n",
       "\n",
       "    .dataframe tbody tr th {\n",
       "        vertical-align: top;\n",
       "    }\n",
       "\n",
       "    .dataframe thead th {\n",
       "        text-align: right;\n",
       "    }\n",
       "</style>\n",
       "<table border=\"1\" class=\"dataframe\">\n",
       "  <thead>\n",
       "    <tr style=\"text-align: right;\">\n",
       "      <th></th>\n",
       "      <th>id</th>\n",
       "      <th>name</th>\n",
       "      <th>host_id</th>\n",
       "      <th>host_name</th>\n",
       "      <th>neighbourhood_group</th>\n",
       "      <th>neighbourhood</th>\n",
       "      <th>latitude</th>\n",
       "      <th>longitude</th>\n",
       "      <th>room_type</th>\n",
       "      <th>price</th>\n",
       "      <th>minimum_nights</th>\n",
       "      <th>number_of_reviews</th>\n",
       "      <th>last_review</th>\n",
       "      <th>reviews_per_month</th>\n",
       "      <th>calculated_host_listings_count</th>\n",
       "      <th>availability_365</th>\n",
       "    </tr>\n",
       "  </thead>\n",
       "  <tbody>\n",
       "    <tr>\n",
       "      <th>0</th>\n",
       "      <td>2539</td>\n",
       "      <td>Clean &amp; quiet apt home by the park</td>\n",
       "      <td>2787</td>\n",
       "      <td>John</td>\n",
       "      <td>Brooklyn</td>\n",
       "      <td>Kensington</td>\n",
       "      <td>40.64749</td>\n",
       "      <td>-73.97237</td>\n",
       "      <td>Private room</td>\n",
       "      <td>149</td>\n",
       "      <td>1</td>\n",
       "      <td>9</td>\n",
       "      <td>19-10-2018</td>\n",
       "      <td>0.21</td>\n",
       "      <td>6</td>\n",
       "      <td>365</td>\n",
       "    </tr>\n",
       "    <tr>\n",
       "      <th>1</th>\n",
       "      <td>2595</td>\n",
       "      <td>Skylit Midtown Castle</td>\n",
       "      <td>2845</td>\n",
       "      <td>Jennifer</td>\n",
       "      <td>Manhattan</td>\n",
       "      <td>Midtown</td>\n",
       "      <td>40.75362</td>\n",
       "      <td>-73.98377</td>\n",
       "      <td>Entire home/apt</td>\n",
       "      <td>225</td>\n",
       "      <td>1</td>\n",
       "      <td>45</td>\n",
       "      <td>21-05-2019</td>\n",
       "      <td>0.38</td>\n",
       "      <td>2</td>\n",
       "      <td>355</td>\n",
       "    </tr>\n",
       "    <tr>\n",
       "      <th>2</th>\n",
       "      <td>3647</td>\n",
       "      <td>THE VILLAGE OF HARLEM....NEW YORK !</td>\n",
       "      <td>4632</td>\n",
       "      <td>Elisabeth</td>\n",
       "      <td>Manhattan</td>\n",
       "      <td>Harlem</td>\n",
       "      <td>40.80902</td>\n",
       "      <td>-73.94190</td>\n",
       "      <td>Private room</td>\n",
       "      <td>150</td>\n",
       "      <td>3</td>\n",
       "      <td>0</td>\n",
       "      <td>NaN</td>\n",
       "      <td>NaN</td>\n",
       "      <td>1</td>\n",
       "      <td>365</td>\n",
       "    </tr>\n",
       "    <tr>\n",
       "      <th>3</th>\n",
       "      <td>3831</td>\n",
       "      <td>Cozy Entire Floor of Brownstone</td>\n",
       "      <td>4869</td>\n",
       "      <td>LisaRoxanne</td>\n",
       "      <td>Brooklyn</td>\n",
       "      <td>Clinton Hill</td>\n",
       "      <td>40.68514</td>\n",
       "      <td>-73.95976</td>\n",
       "      <td>Entire home/apt</td>\n",
       "      <td>89</td>\n",
       "      <td>1</td>\n",
       "      <td>270</td>\n",
       "      <td>05-07-2019</td>\n",
       "      <td>4.64</td>\n",
       "      <td>1</td>\n",
       "      <td>194</td>\n",
       "    </tr>\n",
       "    <tr>\n",
       "      <th>4</th>\n",
       "      <td>5022</td>\n",
       "      <td>Entire Apt: Spacious Studio/Loft by central park</td>\n",
       "      <td>7192</td>\n",
       "      <td>Laura</td>\n",
       "      <td>Manhattan</td>\n",
       "      <td>East Harlem</td>\n",
       "      <td>40.79851</td>\n",
       "      <td>-73.94399</td>\n",
       "      <td>Entire home/apt</td>\n",
       "      <td>80</td>\n",
       "      <td>10</td>\n",
       "      <td>9</td>\n",
       "      <td>19-11-2018</td>\n",
       "      <td>0.10</td>\n",
       "      <td>1</td>\n",
       "      <td>0</td>\n",
       "    </tr>\n",
       "  </tbody>\n",
       "</table>\n",
       "</div>"
      ],
      "text/plain": [
       "     id                                              name  host_id  \\\n",
       "0  2539                Clean & quiet apt home by the park     2787   \n",
       "1  2595                             Skylit Midtown Castle     2845   \n",
       "2  3647               THE VILLAGE OF HARLEM....NEW YORK !     4632   \n",
       "3  3831                   Cozy Entire Floor of Brownstone     4869   \n",
       "4  5022  Entire Apt: Spacious Studio/Loft by central park     7192   \n",
       "\n",
       "     host_name neighbourhood_group neighbourhood  latitude  longitude  \\\n",
       "0         John            Brooklyn    Kensington  40.64749  -73.97237   \n",
       "1     Jennifer           Manhattan       Midtown  40.75362  -73.98377   \n",
       "2    Elisabeth           Manhattan        Harlem  40.80902  -73.94190   \n",
       "3  LisaRoxanne            Brooklyn  Clinton Hill  40.68514  -73.95976   \n",
       "4        Laura           Manhattan   East Harlem  40.79851  -73.94399   \n",
       "\n",
       "         room_type  price  minimum_nights  number_of_reviews last_review  \\\n",
       "0     Private room    149               1                  9  19-10-2018   \n",
       "1  Entire home/apt    225               1                 45  21-05-2019   \n",
       "2     Private room    150               3                  0         NaN   \n",
       "3  Entire home/apt     89               1                270  05-07-2019   \n",
       "4  Entire home/apt     80              10                  9  19-11-2018   \n",
       "\n",
       "   reviews_per_month  calculated_host_listings_count  availability_365  \n",
       "0               0.21                               6               365  \n",
       "1               0.38                               2               355  \n",
       "2                NaN                               1               365  \n",
       "3               4.64                               1               194  \n",
       "4               0.10                               1                 0  "
      ]
     },
     "execution_count": 4,
     "metadata": {},
     "output_type": "execute_result"
    }
   ],
   "source": [
    "#Reading the dataset\n",
    "airbnb_data= pd.read_csv('AB_NYC_2019.csv')\n",
    "airbnb_data.head()"
   ]
  },
  {
   "cell_type": "code",
   "execution_count": 5,
   "id": "be25e391",
   "metadata": {},
   "outputs": [
    {
     "name": "stdout",
     "output_type": "stream",
     "text": [
      "<class 'pandas.core.frame.DataFrame'>\n",
      "RangeIndex: 48895 entries, 0 to 48894\n",
      "Data columns (total 16 columns):\n",
      " #   Column                          Non-Null Count  Dtype  \n",
      "---  ------                          --------------  -----  \n",
      " 0   id                              48895 non-null  int64  \n",
      " 1   name                            48879 non-null  object \n",
      " 2   host_id                         48895 non-null  int64  \n",
      " 3   host_name                       48874 non-null  object \n",
      " 4   neighbourhood_group             48895 non-null  object \n",
      " 5   neighbourhood                   48895 non-null  object \n",
      " 6   latitude                        48895 non-null  float64\n",
      " 7   longitude                       48895 non-null  float64\n",
      " 8   room_type                       48895 non-null  object \n",
      " 9   price                           48895 non-null  int64  \n",
      " 10  minimum_nights                  48895 non-null  int64  \n",
      " 11  number_of_reviews               48895 non-null  int64  \n",
      " 12  last_review                     38843 non-null  object \n",
      " 13  reviews_per_month               38843 non-null  float64\n",
      " 14  calculated_host_listings_count  48895 non-null  int64  \n",
      " 15  availability_365                48895 non-null  int64  \n",
      "dtypes: float64(3), int64(7), object(6)\n",
      "memory usage: 6.0+ MB\n"
     ]
    }
   ],
   "source": [
    "airbnb_data.info() #checking details of the datset's columns"
   ]
  },
  {
   "cell_type": "code",
   "execution_count": 6,
   "id": "d21b807f",
   "metadata": {},
   "outputs": [
    {
     "data": {
      "text/plain": [
       "(48895, 16)"
      ]
     },
     "execution_count": 6,
     "metadata": {},
     "output_type": "execute_result"
    }
   ],
   "source": [
    "airbnb_data.shape #checking the shape"
   ]
  },
  {
   "cell_type": "markdown",
   "id": "dc3062ca",
   "metadata": {},
   "source": [
    "## Data cleaning"
   ]
  },
  {
   "cell_type": "code",
   "execution_count": 7,
   "id": "10fd4b3e",
   "metadata": {},
   "outputs": [
    {
     "data": {
      "text/plain": [
       "0"
      ]
     },
     "execution_count": 7,
     "metadata": {},
     "output_type": "execute_result"
    }
   ],
   "source": [
    "#checking for duplicated rows\n",
    "airbnb_data.duplicated().sum()      #no duplicates found"
   ]
  },
  {
   "cell_type": "markdown",
   "id": "33392b8e",
   "metadata": {},
   "source": [
    "**Checking for null values in the dataset**"
   ]
  },
  {
   "cell_type": "code",
   "execution_count": 8,
   "id": "62f179ee",
   "metadata": {},
   "outputs": [
    {
     "data": {
      "text/plain": [
       "id                                    0\n",
       "name                                 16\n",
       "host_id                               0\n",
       "host_name                            21\n",
       "neighbourhood_group                   0\n",
       "neighbourhood                         0\n",
       "latitude                              0\n",
       "longitude                             0\n",
       "room_type                             0\n",
       "price                                 0\n",
       "minimum_nights                        0\n",
       "number_of_reviews                     0\n",
       "last_review                       10052\n",
       "reviews_per_month                 10052\n",
       "calculated_host_listings_count        0\n",
       "availability_365                      0\n",
       "dtype: int64"
      ]
     },
     "execution_count": 8,
     "metadata": {},
     "output_type": "execute_result"
    }
   ],
   "source": [
    "airbnb_data.isnull().sum()"
   ]
  },
  {
   "cell_type": "code",
   "execution_count": 9,
   "id": "eddf9dfd",
   "metadata": {},
   "outputs": [
    {
     "data": {
      "text/html": [
       "<div>\n",
       "<style scoped>\n",
       "    .dataframe tbody tr th:only-of-type {\n",
       "        vertical-align: middle;\n",
       "    }\n",
       "\n",
       "    .dataframe tbody tr th {\n",
       "        vertical-align: top;\n",
       "    }\n",
       "\n",
       "    .dataframe thead th {\n",
       "        text-align: right;\n",
       "    }\n",
       "</style>\n",
       "<table border=\"1\" class=\"dataframe\">\n",
       "  <thead>\n",
       "    <tr style=\"text-align: right;\">\n",
       "      <th></th>\n",
       "      <th>Missing values</th>\n",
       "      <th>Null percentage</th>\n",
       "    </tr>\n",
       "  </thead>\n",
       "  <tbody>\n",
       "    <tr>\n",
       "      <th>id</th>\n",
       "      <td>0</td>\n",
       "      <td>0.000000</td>\n",
       "    </tr>\n",
       "    <tr>\n",
       "      <th>name</th>\n",
       "      <td>16</td>\n",
       "      <td>0.032723</td>\n",
       "    </tr>\n",
       "    <tr>\n",
       "      <th>host_id</th>\n",
       "      <td>0</td>\n",
       "      <td>0.000000</td>\n",
       "    </tr>\n",
       "    <tr>\n",
       "      <th>host_name</th>\n",
       "      <td>21</td>\n",
       "      <td>0.042949</td>\n",
       "    </tr>\n",
       "    <tr>\n",
       "      <th>neighbourhood_group</th>\n",
       "      <td>0</td>\n",
       "      <td>0.000000</td>\n",
       "    </tr>\n",
       "    <tr>\n",
       "      <th>neighbourhood</th>\n",
       "      <td>0</td>\n",
       "      <td>0.000000</td>\n",
       "    </tr>\n",
       "    <tr>\n",
       "      <th>latitude</th>\n",
       "      <td>0</td>\n",
       "      <td>0.000000</td>\n",
       "    </tr>\n",
       "    <tr>\n",
       "      <th>longitude</th>\n",
       "      <td>0</td>\n",
       "      <td>0.000000</td>\n",
       "    </tr>\n",
       "    <tr>\n",
       "      <th>room_type</th>\n",
       "      <td>0</td>\n",
       "      <td>0.000000</td>\n",
       "    </tr>\n",
       "    <tr>\n",
       "      <th>price</th>\n",
       "      <td>0</td>\n",
       "      <td>0.000000</td>\n",
       "    </tr>\n",
       "    <tr>\n",
       "      <th>minimum_nights</th>\n",
       "      <td>0</td>\n",
       "      <td>0.000000</td>\n",
       "    </tr>\n",
       "    <tr>\n",
       "      <th>number_of_reviews</th>\n",
       "      <td>0</td>\n",
       "      <td>0.000000</td>\n",
       "    </tr>\n",
       "    <tr>\n",
       "      <th>last_review</th>\n",
       "      <td>10052</td>\n",
       "      <td>20.558339</td>\n",
       "    </tr>\n",
       "    <tr>\n",
       "      <th>reviews_per_month</th>\n",
       "      <td>10052</td>\n",
       "      <td>20.558339</td>\n",
       "    </tr>\n",
       "    <tr>\n",
       "      <th>calculated_host_listings_count</th>\n",
       "      <td>0</td>\n",
       "      <td>0.000000</td>\n",
       "    </tr>\n",
       "    <tr>\n",
       "      <th>availability_365</th>\n",
       "      <td>0</td>\n",
       "      <td>0.000000</td>\n",
       "    </tr>\n",
       "  </tbody>\n",
       "</table>\n",
       "</div>"
      ],
      "text/plain": [
       "                                Missing values  Null percentage\n",
       "id                                           0         0.000000\n",
       "name                                        16         0.032723\n",
       "host_id                                      0         0.000000\n",
       "host_name                                   21         0.042949\n",
       "neighbourhood_group                          0         0.000000\n",
       "neighbourhood                                0         0.000000\n",
       "latitude                                     0         0.000000\n",
       "longitude                                    0         0.000000\n",
       "room_type                                    0         0.000000\n",
       "price                                        0         0.000000\n",
       "minimum_nights                               0         0.000000\n",
       "number_of_reviews                            0         0.000000\n",
       "last_review                              10052        20.558339\n",
       "reviews_per_month                        10052        20.558339\n",
       "calculated_host_listings_count               0         0.000000\n",
       "availability_365                             0         0.000000"
      ]
     },
     "execution_count": 9,
     "metadata": {},
     "output_type": "execute_result"
    }
   ],
   "source": [
    "airbnb_data_nullvalues= pd.DataFrame(airbnb_data.isnull().sum())\n",
    "airbnb_data_nullvalues['Missing values']=airbnb_data_nullvalues[0]\n",
    "airbnb_data_nullvalues['Null percentage']= airbnb_data_nullvalues['Missing values'].apply(lambda x: x/airbnb_data.shape[0]*100)   #finding null percentage for each column\n",
    "airbnb_data_nullvalues=airbnb_data_nullvalues[['Missing values', 'Null percentage']]\n",
    "airbnb_data_nullvalues"
   ]
  },
  {
   "cell_type": "markdown",
   "id": "1114da17",
   "metadata": {},
   "source": [
    "So we can see that columns name and host_name have 0.03% and 0.04% amount of null values which is very miniscule. So we have no issue in dropping these rows from the dataset"
   ]
  },
  {
   "cell_type": "code",
   "execution_count": 10,
   "id": "82de06f0",
   "metadata": {},
   "outputs": [],
   "source": [
    "#dropping null rows from name and host_name columns\n",
    "airbnb_data= airbnb_data[-airbnb_data.name.isnull()]\n",
    "airbnb_data= airbnb_data[-airbnb_data.host_name.isnull()]\n"
   ]
  },
  {
   "cell_type": "code",
   "execution_count": 11,
   "id": "2d7c432b",
   "metadata": {},
   "outputs": [
    {
     "data": {
      "text/html": [
       "<div>\n",
       "<style scoped>\n",
       "    .dataframe tbody tr th:only-of-type {\n",
       "        vertical-align: middle;\n",
       "    }\n",
       "\n",
       "    .dataframe tbody tr th {\n",
       "        vertical-align: top;\n",
       "    }\n",
       "\n",
       "    .dataframe thead th {\n",
       "        text-align: right;\n",
       "    }\n",
       "</style>\n",
       "<table border=\"1\" class=\"dataframe\">\n",
       "  <thead>\n",
       "    <tr style=\"text-align: right;\">\n",
       "      <th></th>\n",
       "      <th>Missing values</th>\n",
       "      <th>Null percentage</th>\n",
       "    </tr>\n",
       "  </thead>\n",
       "  <tbody>\n",
       "    <tr>\n",
       "      <th>id</th>\n",
       "      <td>0</td>\n",
       "      <td>0.000000</td>\n",
       "    </tr>\n",
       "    <tr>\n",
       "      <th>name</th>\n",
       "      <td>0</td>\n",
       "      <td>0.000000</td>\n",
       "    </tr>\n",
       "    <tr>\n",
       "      <th>host_id</th>\n",
       "      <td>0</td>\n",
       "      <td>0.000000</td>\n",
       "    </tr>\n",
       "    <tr>\n",
       "      <th>host_name</th>\n",
       "      <td>0</td>\n",
       "      <td>0.000000</td>\n",
       "    </tr>\n",
       "    <tr>\n",
       "      <th>neighbourhood_group</th>\n",
       "      <td>0</td>\n",
       "      <td>0.000000</td>\n",
       "    </tr>\n",
       "    <tr>\n",
       "      <th>neighbourhood</th>\n",
       "      <td>0</td>\n",
       "      <td>0.000000</td>\n",
       "    </tr>\n",
       "    <tr>\n",
       "      <th>latitude</th>\n",
       "      <td>0</td>\n",
       "      <td>0.000000</td>\n",
       "    </tr>\n",
       "    <tr>\n",
       "      <th>longitude</th>\n",
       "      <td>0</td>\n",
       "      <td>0.000000</td>\n",
       "    </tr>\n",
       "    <tr>\n",
       "      <th>room_type</th>\n",
       "      <td>0</td>\n",
       "      <td>0.000000</td>\n",
       "    </tr>\n",
       "    <tr>\n",
       "      <th>price</th>\n",
       "      <td>0</td>\n",
       "      <td>0.000000</td>\n",
       "    </tr>\n",
       "    <tr>\n",
       "      <th>minimum_nights</th>\n",
       "      <td>0</td>\n",
       "      <td>0.000000</td>\n",
       "    </tr>\n",
       "    <tr>\n",
       "      <th>number_of_reviews</th>\n",
       "      <td>0</td>\n",
       "      <td>0.000000</td>\n",
       "    </tr>\n",
       "    <tr>\n",
       "      <th>last_review</th>\n",
       "      <td>10037</td>\n",
       "      <td>20.543207</td>\n",
       "    </tr>\n",
       "    <tr>\n",
       "      <th>reviews_per_month</th>\n",
       "      <td>10037</td>\n",
       "      <td>20.543207</td>\n",
       "    </tr>\n",
       "    <tr>\n",
       "      <th>calculated_host_listings_count</th>\n",
       "      <td>0</td>\n",
       "      <td>0.000000</td>\n",
       "    </tr>\n",
       "    <tr>\n",
       "      <th>availability_365</th>\n",
       "      <td>0</td>\n",
       "      <td>0.000000</td>\n",
       "    </tr>\n",
       "  </tbody>\n",
       "</table>\n",
       "</div>"
      ],
      "text/plain": [
       "                                Missing values  Null percentage\n",
       "id                                           0         0.000000\n",
       "name                                         0         0.000000\n",
       "host_id                                      0         0.000000\n",
       "host_name                                    0         0.000000\n",
       "neighbourhood_group                          0         0.000000\n",
       "neighbourhood                                0         0.000000\n",
       "latitude                                     0         0.000000\n",
       "longitude                                    0         0.000000\n",
       "room_type                                    0         0.000000\n",
       "price                                        0         0.000000\n",
       "minimum_nights                               0         0.000000\n",
       "number_of_reviews                            0         0.000000\n",
       "last_review                              10037        20.543207\n",
       "reviews_per_month                        10037        20.543207\n",
       "calculated_host_listings_count               0         0.000000\n",
       "availability_365                             0         0.000000"
      ]
     },
     "execution_count": 11,
     "metadata": {},
     "output_type": "execute_result"
    }
   ],
   "source": [
    "#checking missing values and null percentage again\n",
    "airbnb_data_nullvalues= pd.DataFrame(airbnb_data.isnull().sum())\n",
    "airbnb_data_nullvalues['Missing values']=airbnb_data_nullvalues[0]\n",
    "airbnb_data_nullvalues['Null percentage']= airbnb_data_nullvalues['Missing values'].apply(lambda x: x/airbnb_data.shape[0]*100)   #finding null percentage for each column\n",
    "airbnb_data_nullvalues=airbnb_data_nullvalues[['Missing values', 'Null percentage']]\n",
    "airbnb_data_nullvalues"
   ]
  },
  {
   "cell_type": "code",
   "execution_count": 12,
   "id": "151799b7",
   "metadata": {},
   "outputs": [],
   "source": [
    "#we can see that last_review and reviews_per_month has 20.54% null values. \n",
    "#We know that last_review is supposed to be a date column and if we replace the missing values with the mode or a 'missing' category\n",
    "#it won't help us with the further analysis as it won't be treated as a date column. So we are dropping these rows\n",
    "\n",
    "airbnb_data= airbnb_data[-airbnb_data.last_review.isnull()]"
   ]
  },
  {
   "cell_type": "code",
   "execution_count": 13,
   "id": "30be9690",
   "metadata": {},
   "outputs": [
    {
     "data": {
      "text/html": [
       "<div>\n",
       "<style scoped>\n",
       "    .dataframe tbody tr th:only-of-type {\n",
       "        vertical-align: middle;\n",
       "    }\n",
       "\n",
       "    .dataframe tbody tr th {\n",
       "        vertical-align: top;\n",
       "    }\n",
       "\n",
       "    .dataframe thead th {\n",
       "        text-align: right;\n",
       "    }\n",
       "</style>\n",
       "<table border=\"1\" class=\"dataframe\">\n",
       "  <thead>\n",
       "    <tr style=\"text-align: right;\">\n",
       "      <th></th>\n",
       "      <th>Missing values</th>\n",
       "      <th>Null percentage</th>\n",
       "    </tr>\n",
       "  </thead>\n",
       "  <tbody>\n",
       "    <tr>\n",
       "      <th>id</th>\n",
       "      <td>0</td>\n",
       "      <td>0.0</td>\n",
       "    </tr>\n",
       "    <tr>\n",
       "      <th>name</th>\n",
       "      <td>0</td>\n",
       "      <td>0.0</td>\n",
       "    </tr>\n",
       "    <tr>\n",
       "      <th>host_id</th>\n",
       "      <td>0</td>\n",
       "      <td>0.0</td>\n",
       "    </tr>\n",
       "    <tr>\n",
       "      <th>host_name</th>\n",
       "      <td>0</td>\n",
       "      <td>0.0</td>\n",
       "    </tr>\n",
       "    <tr>\n",
       "      <th>neighbourhood_group</th>\n",
       "      <td>0</td>\n",
       "      <td>0.0</td>\n",
       "    </tr>\n",
       "    <tr>\n",
       "      <th>neighbourhood</th>\n",
       "      <td>0</td>\n",
       "      <td>0.0</td>\n",
       "    </tr>\n",
       "    <tr>\n",
       "      <th>latitude</th>\n",
       "      <td>0</td>\n",
       "      <td>0.0</td>\n",
       "    </tr>\n",
       "    <tr>\n",
       "      <th>longitude</th>\n",
       "      <td>0</td>\n",
       "      <td>0.0</td>\n",
       "    </tr>\n",
       "    <tr>\n",
       "      <th>room_type</th>\n",
       "      <td>0</td>\n",
       "      <td>0.0</td>\n",
       "    </tr>\n",
       "    <tr>\n",
       "      <th>price</th>\n",
       "      <td>0</td>\n",
       "      <td>0.0</td>\n",
       "    </tr>\n",
       "    <tr>\n",
       "      <th>minimum_nights</th>\n",
       "      <td>0</td>\n",
       "      <td>0.0</td>\n",
       "    </tr>\n",
       "    <tr>\n",
       "      <th>number_of_reviews</th>\n",
       "      <td>0</td>\n",
       "      <td>0.0</td>\n",
       "    </tr>\n",
       "    <tr>\n",
       "      <th>last_review</th>\n",
       "      <td>0</td>\n",
       "      <td>0.0</td>\n",
       "    </tr>\n",
       "    <tr>\n",
       "      <th>reviews_per_month</th>\n",
       "      <td>0</td>\n",
       "      <td>0.0</td>\n",
       "    </tr>\n",
       "    <tr>\n",
       "      <th>calculated_host_listings_count</th>\n",
       "      <td>0</td>\n",
       "      <td>0.0</td>\n",
       "    </tr>\n",
       "    <tr>\n",
       "      <th>availability_365</th>\n",
       "      <td>0</td>\n",
       "      <td>0.0</td>\n",
       "    </tr>\n",
       "  </tbody>\n",
       "</table>\n",
       "</div>"
      ],
      "text/plain": [
       "                                Missing values  Null percentage\n",
       "id                                           0              0.0\n",
       "name                                         0              0.0\n",
       "host_id                                      0              0.0\n",
       "host_name                                    0              0.0\n",
       "neighbourhood_group                          0              0.0\n",
       "neighbourhood                                0              0.0\n",
       "latitude                                     0              0.0\n",
       "longitude                                    0              0.0\n",
       "room_type                                    0              0.0\n",
       "price                                        0              0.0\n",
       "minimum_nights                               0              0.0\n",
       "number_of_reviews                            0              0.0\n",
       "last_review                                  0              0.0\n",
       "reviews_per_month                            0              0.0\n",
       "calculated_host_listings_count               0              0.0\n",
       "availability_365                             0              0.0"
      ]
     },
     "execution_count": 13,
     "metadata": {},
     "output_type": "execute_result"
    }
   ],
   "source": [
    "#checking missing values and null percentage again\n",
    "airbnb_data_nullvalues= pd.DataFrame(airbnb_data.isnull().sum())\n",
    "airbnb_data_nullvalues['Missing values']=airbnb_data_nullvalues[0]\n",
    "airbnb_data_nullvalues['Null percentage']= airbnb_data_nullvalues['Missing values'].apply(lambda x: x/airbnb_data.shape[0]*100)   #finding null percentage for each column\n",
    "airbnb_data_nullvalues=airbnb_data_nullvalues[['Missing values', 'Null percentage']]\n",
    "airbnb_data_nullvalues"
   ]
  },
  {
   "cell_type": "markdown",
   "id": "834bf39a",
   "metadata": {},
   "source": [
    "**So now as we can see all the null values are taken care of and there are no more missing values in the dataset.**"
   ]
  },
  {
   "cell_type": "markdown",
   "id": "fecfa7cb",
   "metadata": {},
   "source": [
    "**Checking for outliers**"
   ]
  },
  {
   "cell_type": "code",
   "execution_count": 41,
   "id": "cf6e2e2e",
   "metadata": {
    "scrolled": true
   },
   "outputs": [
    {
     "data": {
      "text/plain": [
       "['id',\n",
       " 'host_id',\n",
       " 'latitude',\n",
       " 'longitude',\n",
       " 'price',\n",
       " 'minimum_nights',\n",
       " 'number_of_reviews',\n",
       " 'reviews_per_month',\n",
       " 'calculated_host_listings_count',\n",
       " 'availability_365']"
      ]
     },
     "execution_count": 41,
     "metadata": {},
     "output_type": "execute_result"
    }
   ],
   "source": [
    "#putting  the numeric variables in a list\n",
    "num_variables= list(airbnb_data.describe())\n",
    "num_variables"
   ]
  },
  {
   "cell_type": "code",
   "execution_count": 44,
   "id": "e54c6468",
   "metadata": {},
   "outputs": [
    {
     "data": {
      "text/plain": [
       "['latitude',\n",
       " 'longitude',\n",
       " 'price',\n",
       " 'minimum_nights',\n",
       " 'number_of_reviews',\n",
       " 'reviews_per_month',\n",
       " 'calculated_host_listings_count',\n",
       " 'availability_365']"
      ]
     },
     "execution_count": 44,
     "metadata": {},
     "output_type": "execute_result"
    }
   ],
   "source": [
    "#dropping id, host_id as they are not needed\n",
    "num_variables.remove('id')\n",
    "num_variables.remove('host_id')\n",
    "num_variables"
   ]
  },
  {
   "cell_type": "code",
   "execution_count": 50,
   "id": "67bfcef9",
   "metadata": {
    "scrolled": true
   },
   "outputs": [],
   "source": [
    "#creating a function that will take the numeric columns from the dataset and generate boxplots so that we can check for outliers\n",
    "def boxplotter(dataset, columns):\n",
    "    cols= columns\n",
    "    data= dataset\n",
    "    sns.boxplot(x= columns, data=data)\n",
    "    plt.xticks(rotation=90)\n",
    "    plt.show()"
   ]
  },
  {
   "cell_type": "code",
   "execution_count": 51,
   "id": "ca7f8eb5",
   "metadata": {
    "scrolled": false
   },
   "outputs": [
    {
     "data": {
      "image/png": "[encoded data removed]",
      "text/plain": [
       "<Figure size 432x288 with 1 Axes>"
      ]
     },
     "metadata": {
      "needs_background": "light"
     },
     "output_type": "display_data"
    },
    {
     "data": {
      "image/png": "[encoded data removed]",
      "text/plain": [
       "<Figure size 432x288 with 1 Axes>"
      ]
     },
     "metadata": {
      "needs_background": "light"
     },
     "output_type": "display_data"
    },
    {
     "data": {
      "image/png": "[encoded data removed]",
      "text/plain": [
       "<Figure size 432x288 with 1 Axes>"
      ]
     },
     "metadata": {
      "needs_background": "light"
     },
     "output_type": "display_data"
    },
    {
     "data": {
      "image/png": "[encoded data removed]",
      "text/plain": [
       "<Figure size 432x288 with 1 Axes>"
      ]
     },
     "metadata": {
      "needs_background": "light"
     },
     "output_type": "display_data"
    },
    {
     "data": {
      "image/png": "[encoded data removed]",
      "text/plain": [
       "<Figure size 432x288 with 1 Axes>"
      ]
     },
     "metadata": {
      "needs_background": "light"
     },
     "output_type": "display_data"
    },
    {
     "data": {
      "image/png": "[encoded data removed]",
      "text/plain": [
       "<Figure size 432x288 with 1 Axes>"
      ]
     },
     "metadata": {
      "needs_background": "light"
     },
     "output_type": "display_data"
    },
    {
     "data": {
      "image/png": "[encoded data removed]",
      "text/plain": [
       "<Figure size 432x288 with 1 Axes>"
      ]
     },
     "metadata": {
      "needs_background": "light"
     },
     "output_type": "display_data"
    },
    {
     "data": {
      "image/png": "[encoded data removed]",
      "text/plain": [
       "<Figure size 432x288 with 1 Axes>"
      ]
     },
     "metadata": {
      "needs_background": "light"
     },
     "output_type": "display_data"
    }
   ],
   "source": [
    "for i in num_variables:\n",
    "    boxplotter(airbnb_data, i)"
   ]
  },
  {
   "cell_type": "markdown",
   "id": "07a420dd",
   "metadata": {},
   "source": [
    "We are ignoring latitude and longitude from our outlier analysis as these are location variables"
   ]
  },
  {
   "cell_type": "markdown",
   "id": "9edb10f5",
   "metadata": {},
   "source": [
    "**Checking the outliers in price column**"
   ]
  },
  {
   "cell_type": "code",
   "execution_count": 65,
   "id": "bdcac33c",
   "metadata": {},
   "outputs": [
    {
     "data": {
      "text/plain": [
       "count    38821.000000\n",
       "mean       142.332526\n",
       "std        196.994756\n",
       "min          0.000000\n",
       "25%         69.000000\n",
       "50%        101.000000\n",
       "75%        170.000000\n",
       "max      10000.000000\n",
       "Name: price, dtype: float64"
      ]
     },
     "execution_count": 65,
     "metadata": {},
     "output_type": "execute_result"
    }
   ],
   "source": [
    "airbnb_data.price.describe()"
   ]
  },
  {
   "cell_type": "code",
   "execution_count": 64,
   "id": "69a7b8eb",
   "metadata": {},
   "outputs": [
    {
     "data": {
      "text/plain": [
       "0.00      0.0\n",
       "0.25     69.0\n",
       "0.50    101.0\n",
       "0.75    170.0\n",
       "0.90    250.0\n",
       "0.99    671.6\n",
       "Name: price, dtype: float64"
      ]
     },
     "execution_count": 64,
     "metadata": {},
     "output_type": "execute_result"
    }
   ],
   "source": [
    "#checking quantiles\n",
    "airbnb_data.price.quantile([0,0.25,0.5,0.75,0.9,0.99])"
   ]
  },
  {
   "cell_type": "markdown",
   "id": "d9bd9b7c",
   "metadata": {},
   "source": [
    "As we can see the max price is 10000 while the 99% percentile is just 671. This is a massive jump and there is significant gap between the mean and median price as well. So we are capping the max value of price to 700 and considering prices higher than 700 to be outliers."
   ]
  },
  {
   "cell_type": "code",
   "execution_count": 95,
   "id": "a4b34c01",
   "metadata": {},
   "outputs": [
    {
     "data": {
      "text/plain": [
       "(38506, 16)"
      ]
     },
     "execution_count": 95,
     "metadata": {},
     "output_type": "execute_result"
    }
   ],
   "source": [
    "#capping the price at 700\n",
    "airbnb_data2= airbnb_data[airbnb_data.price<=700] #creating a new dataframe airbnb_data2 for further cleaning to maintain control of data\n",
    "airbnb_data2.shape"
   ]
  },
  {
   "cell_type": "markdown",
   "id": "abddef6a",
   "metadata": {},
   "source": [
    "**Checking the outliers in minimum nights column**"
   ]
  },
  {
   "cell_type": "code",
   "execution_count": 96,
   "id": "29d52492",
   "metadata": {},
   "outputs": [
    {
     "data": {
      "text/plain": [
       "count    38506.000000\n",
       "mean         5.851374\n",
       "std         17.326189\n",
       "min          1.000000\n",
       "25%          1.000000\n",
       "50%          2.000000\n",
       "75%          4.000000\n",
       "max       1250.000000\n",
       "Name: minimum_nights, dtype: float64"
      ]
     },
     "execution_count": 96,
     "metadata": {},
     "output_type": "execute_result"
    }
   ],
   "source": [
    "airbnb_data2.minimum_nights.describe()"
   ]
  },
  {
   "cell_type": "code",
   "execution_count": 97,
   "id": "1c52da85",
   "metadata": {},
   "outputs": [
    {
     "data": {
      "text/plain": [
       "0.00     1.0\n",
       "0.25     1.0\n",
       "0.50     2.0\n",
       "0.75     4.0\n",
       "0.90    14.0\n",
       "0.99    31.0\n",
       "Name: minimum_nights, dtype: float64"
      ]
     },
     "execution_count": 97,
     "metadata": {},
     "output_type": "execute_result"
    }
   ],
   "source": [
    "#checking quantiles\n",
    "airbnb_data2.minimum_nights.quantile([0,0.25,0.5,0.75,0.9,0.99])"
   ]
  },
  {
   "cell_type": "markdown",
   "id": "119f274d",
   "metadata": {},
   "source": [
    "Again there is a massive difference the max value(1250) and 99% percentile value(31) which means there is something wrong. So we are capping minimum_nights to 40."
   ]
  },
  {
   "cell_type": "code",
   "execution_count": 98,
   "id": "da2ac178",
   "metadata": {},
   "outputs": [
    {
     "data": {
      "text/plain": [
       "(38240, 16)"
      ]
     },
     "execution_count": 98,
     "metadata": {},
     "output_type": "execute_result"
    }
   ],
   "source": [
    "#capping minimum_nights to 40.\n",
    "airbnb_data2= airbnb_data2[airbnb_data2.minimum_nights<=40]\n",
    "airbnb_data2.shape"
   ]
  },
  {
   "cell_type": "markdown",
   "id": "cb1a37c2",
   "metadata": {},
   "source": [
    "**Checking the outliers in number_of_reviews column**"
   ]
  },
  {
   "cell_type": "code",
   "execution_count": 99,
   "id": "57a9dc51",
   "metadata": {},
   "outputs": [
    {
     "data": {
      "text/plain": [
       "count    38240.000000\n",
       "mean        29.476046\n",
       "std         48.372709\n",
       "min          1.000000\n",
       "25%          3.000000\n",
       "50%         10.000000\n",
       "75%         34.000000\n",
       "max        629.000000\n",
       "Name: number_of_reviews, dtype: float64"
      ]
     },
     "execution_count": 99,
     "metadata": {},
     "output_type": "execute_result"
    }
   ],
   "source": [
    "airbnb_data2.number_of_reviews.describe()"
   ]
  },
  {
   "cell_type": "code",
   "execution_count": 100,
   "id": "c6fca902",
   "metadata": {
    "scrolled": true
   },
   "outputs": [
    {
     "data": {
      "text/plain": [
       "0.00      1.00\n",
       "0.25      3.00\n",
       "0.50     10.00\n",
       "0.75     34.00\n",
       "0.90     85.00\n",
       "0.99    227.61\n",
       "Name: number_of_reviews, dtype: float64"
      ]
     },
     "execution_count": 100,
     "metadata": {},
     "output_type": "execute_result"
    }
   ],
   "source": [
    "airbnb_data2.number_of_reviews.quantile([0,0.25,0.5,0.75,0.9,0.99])"
   ]
  },
  {
   "cell_type": "markdown",
   "id": "da4c6440",
   "metadata": {},
   "source": [
    "Now here the max number of reviews is 629 which is a plausible measure. There is a believable difference between the 99th percentile and max value so we are not treating these as outliers"
   ]
  },
  {
   "cell_type": "markdown",
   "id": "ef926f70",
   "metadata": {},
   "source": [
    "**Checking the outliers in reviews_per_month column**"
   ]
  },
  {
   "cell_type": "code",
   "execution_count": 101,
   "id": "92c38e0d",
   "metadata": {},
   "outputs": [
    {
     "data": {
      "text/plain": [
       "count    38240.000000\n",
       "mean         1.383867\n",
       "std          1.686837\n",
       "min          0.010000\n",
       "25%          0.190000\n",
       "50%          0.730000\n",
       "75%          2.040000\n",
       "max         58.500000\n",
       "Name: reviews_per_month, dtype: float64"
      ]
     },
     "execution_count": 101,
     "metadata": {},
     "output_type": "execute_result"
    }
   ],
   "source": [
    "airbnb_data2.reviews_per_month.describe()"
   ]
  },
  {
   "cell_type": "code",
   "execution_count": 102,
   "id": "8ac9bbd1",
   "metadata": {},
   "outputs": [
    {
     "data": {
      "text/plain": [
       "0.00    0.0100\n",
       "0.25    0.1900\n",
       "0.50    0.7300\n",
       "0.75    2.0400\n",
       "0.90    3.6500\n",
       "0.99    7.2361\n",
       "Name: reviews_per_month, dtype: float64"
      ]
     },
     "execution_count": 102,
     "metadata": {},
     "output_type": "execute_result"
    }
   ],
   "source": [
    "#quantiles\n",
    "airbnb_data2.reviews_per_month.quantile([0,0.25,0.5,0.75,0.9,0.99])"
   ]
  },
  {
   "cell_type": "markdown",
   "id": "7e3ca4b5",
   "metadata": {},
   "source": [
    "From the boxplot graph there are a few very isolated points that look like outliers and the 99th percentile is just 7.23 while max value is 58.5. So we are gonna cap reviews_per_month to 25 using the box plot graph as a suitable max point"
   ]
  },
  {
   "cell_type": "code",
   "execution_count": 103,
   "id": "a7039606",
   "metadata": {},
   "outputs": [
    {
     "data": {
      "text/plain": [
       "(38238, 16)"
      ]
     },
     "execution_count": 103,
     "metadata": {},
     "output_type": "execute_result"
    }
   ],
   "source": [
    "#capping reviews_per_month to 25\n",
    "airbnb_data2= airbnb_data2[airbnb_data2.reviews_per_month<=25]\n",
    "airbnb_data2.shape"
   ]
  },
  {
   "cell_type": "markdown",
   "id": "20925590",
   "metadata": {},
   "source": [
    "**Checking the outliers in calculated_host_listings_count column**"
   ]
  },
  {
   "cell_type": "code",
   "execution_count": 104,
   "id": "3ba49cb5",
   "metadata": {},
   "outputs": [
    {
     "data": {
      "text/plain": [
       "count    38238.000000\n",
       "mean         5.185705\n",
       "std         26.483255\n",
       "min          1.000000\n",
       "25%          1.000000\n",
       "50%          1.000000\n",
       "75%          2.000000\n",
       "max        327.000000\n",
       "Name: calculated_host_listings_count, dtype: float64"
      ]
     },
     "execution_count": 104,
     "metadata": {},
     "output_type": "execute_result"
    }
   ],
   "source": [
    "airbnb_data2.calculated_host_listings_count.describe()"
   ]
  },
  {
   "cell_type": "code",
   "execution_count": 105,
   "id": "aa5b7cad",
   "metadata": {},
   "outputs": [
    {
     "data": {
      "text/plain": [
       "0.00     1.0\n",
       "0.25     1.0\n",
       "0.50     1.0\n",
       "0.75     2.0\n",
       "0.90     5.0\n",
       "0.99    96.0\n",
       "Name: calculated_host_listings_count, dtype: float64"
      ]
     },
     "execution_count": 105,
     "metadata": {},
     "output_type": "execute_result"
    }
   ],
   "source": [
    "#quantiles\n",
    "airbnb_data2.calculated_host_listings_count.quantile([0,0.25,0.5,0.75,0.9,0.99])"
   ]
  },
  {
   "cell_type": "markdown",
   "id": "a69e4f09",
   "metadata": {},
   "source": [
    "Going by the graph and looking at the gap between 99th pecentile and max value, we feel that capping calculated_host_listings_count at 150 will be suitable and treating the points beyong this as outliers"
   ]
  },
  {
   "cell_type": "code",
   "execution_count": 111,
   "id": "ba73fa55",
   "metadata": {},
   "outputs": [
    {
     "data": {
      "text/plain": [
       "(38003, 16)"
      ]
     },
     "execution_count": 111,
     "metadata": {},
     "output_type": "execute_result"
    }
   ],
   "source": [
    "#capping calculated_host_listings_count at 150\n",
    "\n",
    "airbnb_data2= airbnb_data2[airbnb_data2.calculated_host_listings_count<=150]\n",
    "airbnb_data2.shape"
   ]
  },
  {
   "cell_type": "markdown",
   "id": "7e83a68b",
   "metadata": {},
   "source": [
    "**Checking the outliers in availability_365 column**"
   ]
  },
  {
   "cell_type": "code",
   "execution_count": 112,
   "id": "10ab1a66",
   "metadata": {},
   "outputs": [
    {
     "data": {
      "text/plain": [
       "count    38003.000000\n",
       "mean       112.640870\n",
       "std        128.554502\n",
       "min          0.000000\n",
       "25%          0.000000\n",
       "50%         52.000000\n",
       "75%        221.000000\n",
       "max        365.000000\n",
       "Name: availability_365, dtype: float64"
      ]
     },
     "execution_count": 112,
     "metadata": {},
     "output_type": "execute_result"
    }
   ],
   "source": [
    "airbnb_data2.availability_365.describe()"
   ]
  },
  {
   "cell_type": "code",
   "execution_count": 114,
   "id": "0bbf6070",
   "metadata": {},
   "outputs": [
    {
     "data": {
      "text/plain": [
       "0.00      0.0\n",
       "0.25      0.0\n",
       "0.50     52.0\n",
       "0.75    221.0\n",
       "0.90    331.0\n",
       "0.99    365.0\n",
       "Name: availability_365, dtype: float64"
      ]
     },
     "execution_count": 114,
     "metadata": {},
     "output_type": "execute_result"
    }
   ],
   "source": [
    "#quantiles\n",
    "airbnb_data2.availability_365.quantile([0,0.25,0.5,0.75,0.9,0.99])"
   ]
  },
  {
   "cell_type": "markdown",
   "id": "14ab7095",
   "metadata": {},
   "source": [
    "There are no outliers in availability_365 and the max value is 365 that is completely possible as a year has 365 days total"
   ]
  },
  {
   "cell_type": "markdown",
   "id": "0479f3d5",
   "metadata": {},
   "source": [
    "**Data is clean now **"
   ]
  },
  {
   "cell_type": "code",
   "execution_count": 115,
   "id": "6eeaca55",
   "metadata": {},
   "outputs": [
    {
     "data": {
      "text/plain": [
       "(38003, 16)"
      ]
     },
     "execution_count": 115,
     "metadata": {},
     "output_type": "execute_result"
    }
   ],
   "source": [
    "airbnb_data2.shape #checking shape of cleaned data"
   ]
  },
  {
   "cell_type": "markdown",
   "id": "b2bdc360",
   "metadata": {},
   "source": [
    "### Exporting cleaned data as an excel file for doing visualizations in tableau"
   ]
  },
  {
   "cell_type": "code",
   "execution_count": 116,
   "id": "081ab85c",
   "metadata": {},
   "outputs": [],
   "source": [
    "filename= \"AB_NYC_2019_cleaned.xlsx\"\n",
    "airbnb_data2.to_excel(filename)"
   ]
  }
 ],
 "metadata": {
  "kernelspec": {
   "display_name": "Python 3",
   "language": "python",
   "name": "python3"
  },
  "language_info": {
   "codemirror_mode": {
    "name": "ipython",
    "version": 3
   },
   "file_extension": ".py",
   "mimetype": "text/x-python",
   "name": "python",
   "nbconvert_exporter": "python",
   "pygments_lexer": "ipython3",
   "version": "3.8.8"
  }
 },
 "nbformat": 4,
 "nbformat_minor": 5
}
